{
 "cells": [
  {
   "cell_type": "markdown",
   "metadata": {},
   "source": [
    "# Digital Image Processing\n",
    "\n",
    "## Assignment 0\n",
    "\n",
    "### Vedansh Agrawal\n",
    "### 2021112010"
   ]
  },
  {
   "cell_type": "markdown",
   "metadata": {},
   "source": [
    "### Quetion1: \n",
    "\n",
    "Read an image into a file."
   ]
  },
  {
   "cell_type": "code",
   "execution_count": 1,
   "metadata": {},
   "outputs": [],
   "source": [
    "import cv2\n",
    "import numpy as np\n",
    "import matplotlib.pyplot as plt"
   ]
  },
  {
   "cell_type": "code",
   "execution_count": 2,
   "metadata": {},
   "outputs": [
    {
     "name": "stdout",
     "output_type": "stream",
     "text": [
      "(183, 275, 3)\n"
     ]
    }
   ],
   "source": [
    "image = cv2.imread('media/image.jpeg')\n",
    "print(image.shape)"
   ]
  },
  {
   "cell_type": "markdown",
   "metadata": {},
   "source": [
    "### Quetion 2:\n",
    "\n",
    "Write an array into a image file, both RGB and Grayscale."
   ]
  },
  {
   "cell_type": "code",
   "execution_count": 3,
   "metadata": {},
   "outputs": [
    {
     "data": {
      "text/plain": [
       "True"
      ]
     },
     "execution_count": 3,
     "metadata": {},
     "output_type": "execute_result"
    }
   ],
   "source": [
    "#Coloured image\n",
    "array = np.zeros([100, 200, 3], dtype=np.uint8)\n",
    "array[:,:100] = [255, 128, 0] # Orange left side\n",
    "array[:,100:] = [0, 0, 255]   # Blue right side\n",
    "\n",
    "cv2.imwrite('media/colored.png', array)"
   ]
  },
  {
   "cell_type": "code",
   "execution_count": 4,
   "metadata": {},
   "outputs": [
    {
     "data": {
      "text/plain": [
       "True"
      ]
     },
     "execution_count": 4,
     "metadata": {},
     "output_type": "execute_result"
    }
   ],
   "source": [
    "#Gray Scale image\n",
    "array = np.zeros([100, 200], dtype=np.uint8)\n",
    "array[:, :100] = 255\n",
    "cv2.imwrite('media/grayscale.png', array)"
   ]
  },
  {
   "cell_type": "markdown",
   "metadata": {},
   "source": [
    "### Quetion 3:\n",
    "\n",
    "Change brightness of an image"
   ]
  },
  {
   "cell_type": "code",
   "execution_count": 5,
   "metadata": {},
   "outputs": [],
   "source": [
    "brightness = [0.25, 0.5, 0.75, 1.25, 1.5, 2]\n",
    "\n",
    "def change_brightness(image, bright):\n",
    "    brightness_image = np.empty_like(image)\n",
    "\n",
    "    for i in range(image.shape[0]):\n",
    "        for j in range(image.shape[1]):\n",
    "            for k in range(image.shape[2]):\n",
    "                if image[i][j][k]*bright > 255:\n",
    "                    brightness_image[i][j][k] = 255 \n",
    "                else:\n",
    "                    brightness_image[i][j][k] = image[i][j][k] * bright\n",
    "    return brightness_image\n",
    "\n",
    "for bright in brightness:\n",
    "    brightness_image = change_brightness(image, bright)\n",
    "\n",
    "    cv2.imwrite(f'media/Brightness_images/{bright}_image.png', brightness_image)"
   ]
  },
  {
   "cell_type": "markdown",
   "metadata": {},
   "source": [
    "### Quetion 4:\n",
    "\n",
    "Change Contrast of the image"
   ]
  },
  {
   "cell_type": "code",
   "execution_count": 6,
   "metadata": {},
   "outputs": [],
   "source": [
    "i_high, i_low = np.max(image), np.min(image)\n",
    "contrasts = [(0, 255), (25, 240), (50, 230)]\n",
    "\n",
    "for min, high in contrasts:\n",
    "    contrast_image = np.empty_like(image)\n",
    "\n",
    "    for i in range(image.shape[0]):\n",
    "        for j in range(image.shape[1]):\n",
    "            for k in range(image.shape[2]):\n",
    "                contrast_image[i][j][k] = round(min + (high-min)*(image[i][j][k] - i_low)/(i_high - i_low))\n",
    "\n",
    "    cv2.imwrite(f'media/Contrast_images/{min}_{high}_image.png', contrast_image)"
   ]
  },
  {
   "cell_type": "markdown",
   "metadata": {},
   "source": [
    "### Quetion 5:\n",
    "\n",
    "Change a colour image to grayscale."
   ]
  },
  {
   "cell_type": "code",
   "execution_count": 7,
   "metadata": {},
   "outputs": [],
   "source": [
    "grayscale = [(0.33, 0.33, 0.34), (0.4, 0.4, 0.2), (0.2, 0.3, 0.5), (0.1, 0.1, 0.8)]\n",
    "coloured_image = cv2.imread('media/background.jpg', cv2.IMREAD_COLOR)\n",
    "grayscale_image = np.empty((coloured_image.shape[0], coloured_image.shape[1]))\n",
    "\n",
    "for a, b, c in grayscale:\n",
    "    for i in range(coloured_image.shape[0]):\n",
    "        for j in range(coloured_image.shape[1]):\n",
    "            grayscale_image[i][j] = a*coloured_image[i][j][0] + b*coloured_image[i][j][1] + c*coloured_image[i][j][2]\n",
    "\n",
    "    cv2.imwrite(f'media/{a}_{b}_{c}_image.png', grayscale_image)"
   ]
  },
  {
   "cell_type": "markdown",
   "metadata": {},
   "source": [
    "### Quetion 6:\n",
    "\n",
    "Convert a grayscale image to color using a pseudo color mapping."
   ]
  },
  {
   "cell_type": "code",
   "execution_count": 24,
   "metadata": {},
   "outputs": [
    {
     "data": {
      "text/plain": [
       "True"
      ]
     },
     "execution_count": 24,
     "metadata": {},
     "output_type": "execute_result"
    }
   ],
   "source": [
    "gray = cv2.imread('media/Gray_scale.png')\n",
    "coloured = np.zeros((gray.shape[0], gray.shape[1], 3))\n",
    "\n",
    "for i in range(gray.shape[0]):\n",
    "    for j in range(gray.shape[1]):\n",
    "        intensity = gray[i, j, 0]\n",
    "\n",
    "        if intensity <= 50:\n",
    "            coloured[i, j] = (100, intensity*3, intensity*5)\n",
    "        elif intensity <= 100:\n",
    "            coloured[i, j] = (200, intensity, intensity*2)\n",
    "        elif intensity <= 150:\n",
    "            coloured[i, j] = (intensity*2, 180, intensity/4)\n",
    "        elif intensity <= 200:\n",
    "            coloured[i, j] = (200, 200, intensity/2)\n",
    "        else:\n",
    "            coloured[i, j] = (220, intensity, 0)\n",
    "\n",
    "cv2.imwrite('media/Coloured/colour.png', coloured)"
   ]
  },
  {
   "cell_type": "markdown",
   "metadata": {},
   "source": [
    "### Quetion 7:\n",
    "\n",
    "Read in an image with green screen for background and a second one for background. The function should\n",
    "replace the green screen with the corresponding pixels from the background image."
   ]
  },
  {
   "cell_type": "code",
   "execution_count": 8,
   "metadata": {},
   "outputs": [
    {
     "data": {
      "text/plain": [
       "True"
      ]
     },
     "execution_count": 8,
     "metadata": {},
     "output_type": "execute_result"
    }
   ],
   "source": [
    "foreground = cv2.imread('media/Foreground.png')\n",
    "background = cv2.imread('media/background.jpg')\n",
    "chromakey = np.empty_like(foreground)\n",
    "\n",
    "for i in range(foreground.shape[0]):\n",
    "    for j in range(foreground.shape[1]):\n",
    "        if foreground[i][j][1] > 120 and foreground[i][j][0] < 90 and foreground[i][j][2] < 90:\n",
    "            chromakey[i][j] = background[i][j]\n",
    "        else:\n",
    "            chromakey[i][j] = foreground[i][j]\n",
    "\n",
    "cv2.imwrite('media/ChromaKeying/Chromakey.png', chromakey)"
   ]
  },
  {
   "cell_type": "markdown",
   "metadata": {},
   "source": [
    "### Quetion 8:\n",
    "\n",
    "Read a video file and convert into an sequence (array) of images, and also to write it back as a video."
   ]
  },
  {
   "cell_type": "code",
   "execution_count": 9,
   "metadata": {},
   "outputs": [],
   "source": [
    "# Read video\n",
    "\n",
    "video = cv2.VideoCapture('media/Car.mp4')\n",
    "images = []\n",
    "frame_count = 0\n",
    "while True:\n",
    "    ret, frame = video.read()\n",
    "    if not ret:\n",
    "        break\n",
    "    images.append(frame)\n",
    "    frame_count+=1\n",
    "    cv2.imwrite(f'media/Video_frames/{frame_count}_frame.png', frame)\n",
    "    \n",
    "video.release()"
   ]
  },
  {
   "cell_type": "code",
   "execution_count": 10,
   "metadata": {},
   "outputs": [],
   "source": [
    "#Write video\n",
    "\n",
    "frame_rate = 30\n",
    "video_writer = cv2.VideoWriter('media/Car_written.mp4', cv2.VideoWriter_fourcc(*'mp4v'), frame_rate, (1920, 1080))\n",
    "\n",
    "for img in images:\n",
    "    video_writer.write(img)\n",
    "\n",
    "video_writer.release()"
   ]
  },
  {
   "cell_type": "markdown",
   "metadata": {},
   "source": [
    "### Quetion 9:\n",
    "\n",
    "Create a 1 second transition video (fade, slide, any other) from one image to another."
   ]
  },
  {
   "cell_type": "code",
   "execution_count": 11,
   "metadata": {},
   "outputs": [],
   "source": [
    "image1 = cv2.imread('media/Transition1.jpg')\n",
    "image2 = cv2.imread('media/Transition2.jpg')\n",
    "\n",
    "N = 60\n",
    "video_writer = cv2.VideoWriter('media/Transition_Video.mp4', cv2.VideoWriter_fourcc(*'mp4v'), N, (390, 280))\n",
    "\n",
    "for n in range(N+1):\n",
    "    transition = np.empty_like(image1)\n",
    "\n",
    "    for i in range(image1.shape[0]):\n",
    "        for j in range(image1.shape[1]):\n",
    "            for k in range(image1.shape[2]):\n",
    "                transition[i][j][k] = (1-(float(n)/float(N)))*image1[i][j][k] + (float(n)/float(N))*image2[i][j][k]\n",
    "\n",
    "    video_writer.write(transition)\n",
    "\n",
    "video_writer.release()"
   ]
  },
  {
   "cell_type": "code",
   "execution_count": null,
   "metadata": {},
   "outputs": [],
   "source": []
  }
 ],
 "metadata": {
  "kernelspec": {
   "display_name": "audioldm",
   "language": "python",
   "name": "python3"
  },
  "language_info": {
   "codemirror_mode": {
    "name": "ipython",
    "version": 3
   },
   "file_extension": ".py",
   "mimetype": "text/x-python",
   "name": "python",
   "nbconvert_exporter": "python",
   "pygments_lexer": "ipython3",
   "version": "undefined.undefined.undefined"
  }
 },
 "nbformat": 4,
 "nbformat_minor": 2
}
